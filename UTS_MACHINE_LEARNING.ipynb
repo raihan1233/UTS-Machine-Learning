{
  "nbformat": 4,
  "nbformat_minor": 0,
  "metadata": {
    "colab": {
      "provenance": []
    },
    "kernelspec": {
      "name": "python3",
      "display_name": "Python 3"
    },
    "language_info": {
      "name": "python"
    }
  },
  "cells": [
    {
      "cell_type": "markdown",
      "source": [
        "### **Importing Library**"
      ],
      "metadata": {
        "id": "mXdLhkmifaJR"
      }
    },
    {
      "cell_type": "code",
      "source": [
        "# Importing libraries\n",
        "!pip install --upgrade kneed\n",
        "\n",
        "import numpy as np\n",
        "import pandas as pd\n",
        "\n",
        "from sklearn.preprocessing import StandardScaler\n",
        "from sklearn.preprocessing import MinMaxScaler\n",
        "from sklearn.impute import SimpleImputer\n",
        "from sklearn.metrics import classification_report, silhouette_score\n",
        "from sklearn.model_selection import train_test_split\n",
        "from matplotlib import pyplot as plt\n",
        "from sklearn import tree\n",
        "from kneed import KneeLocator\n",
        "from sklearn.cluster import KMeans\n",
        "from sklearn.tree import DecisionTreeClassifier\n",
        "from sklearn.model_selection import train_test_split\n",
        "from sklearn.metrics import confusion_matrix, accuracy_score"
      ],
      "metadata": {
        "colab": {
          "base_uri": "https://localhost:8080/"
        },
        "id": "R-prCgRsfXws",
        "outputId": "6becdf22-99f7-496c-83ca-9cffd791c0cc"
      },
      "execution_count": 1,
      "outputs": [
        {
          "output_type": "stream",
          "name": "stdout",
          "text": [
            "Collecting kneed\n",
            "  Downloading kneed-0.8.5-py3-none-any.whl (10 kB)\n",
            "Requirement already satisfied: numpy>=1.14.2 in /usr/local/lib/python3.10/dist-packages (from kneed) (1.23.5)\n",
            "Requirement already satisfied: scipy>=1.0.0 in /usr/local/lib/python3.10/dist-packages (from kneed) (1.11.3)\n",
            "Installing collected packages: kneed\n",
            "Successfully installed kneed-0.8.5\n"
          ]
        }
      ]
    },
    {
      "cell_type": "code",
      "source": [
        "# dataset\n",
        "url = \"https://raw.githubusercontent.com/isnanmulia/lecture-datasets/main/mobileprice_modified.csv\"\n",
        "data = pd.read_csv(url)\n",
        "print(data)"
      ],
      "metadata": {
        "colab": {
          "base_uri": "https://localhost:8080/"
        },
        "id": "OvMMoUonfnlA",
        "outputId": "f521a550-b513-44e2-ce5c-ee7b7a22ac90"
      },
      "execution_count": 2,
      "outputs": [
        {
          "output_type": "stream",
          "name": "stdout",
          "text": [
            "      battery_power  blue  clock_speed  dual_sim  fc  four_g  int_memory  \\\n",
            "0             842.0     0          2.2         0   1       0         7.0   \n",
            "1            1021.0     1          0.5         1   0       1        53.0   \n",
            "2             563.0     1          0.5         1   2       1        41.0   \n",
            "3             615.0     1          2.5         0   0       0        10.0   \n",
            "4            1821.0     1          1.2         0  13       1        44.0   \n",
            "...             ...   ...          ...       ...  ..     ...         ...   \n",
            "1995          794.0     1          0.5         1   0       1         2.0   \n",
            "1996         1965.0     1          2.6         1   0       0        39.0   \n",
            "1997         1911.0     0          0.9         1   1       1        36.0   \n",
            "1998         1512.0     0          0.9         0   4       1        46.0   \n",
            "1999          510.0     1          2.0         1   5       1        45.0   \n",
            "\n",
            "      m_dep  mobile_wt  n_cores  ...  px_height  px_width     ram  sc_h  sc_w  \\\n",
            "0       0.6      188.0        2  ...         20       756     NaN     9     7   \n",
            "1       0.7      136.0        3  ...        905      1988  2631.0    17     3   \n",
            "2       0.9      145.0        5  ...       1263      1716  2603.0    11     2   \n",
            "3       0.8      131.0        6  ...       1216      1786  2769.0    16     8   \n",
            "4       0.6      141.0        2  ...       1208      1212  1411.0     8     2   \n",
            "...     ...        ...      ...  ...        ...       ...     ...   ...   ...   \n",
            "1995    0.8      106.0        6  ...       1222      1890   668.0    13     4   \n",
            "1996    0.2      187.0        4  ...        915      1965  2032.0    11    10   \n",
            "1997    0.7      108.0        8  ...        868      1632  3057.0     9     1   \n",
            "1998    0.1      145.0        5  ...        336       670   869.0    18    10   \n",
            "1999    0.9      168.0        6  ...        483       754  3919.0    19     4   \n",
            "\n",
            "      talk_time  three_g  touch_screen  wifi  price_range  \n",
            "0            19        0             0     1            1  \n",
            "1             7        1             1     0            2  \n",
            "2             9        1             1     0            2  \n",
            "3            11        1             0     0            2  \n",
            "4            15        1             1     0            1  \n",
            "...         ...      ...           ...   ...          ...  \n",
            "1995         19        1             1     0            0  \n",
            "1996         16        1             1     1            2  \n",
            "1997          5        1             1     0            3  \n",
            "1998         19        1             1     1            0  \n",
            "1999          2        1             1     1            3  \n",
            "\n",
            "[2000 rows x 21 columns]\n"
          ]
        }
      ]
    },
    {
      "cell_type": "markdown",
      "source": [
        "### **No 2**"
      ],
      "metadata": {
        "id": "XaoxQSfAjwVL"
      }
    },
    {
      "cell_type": "markdown",
      "source": [
        "a. Pisahkan bagian atribut prediktor dengan label data menjadi dua variabel terpisah\n",
        "\n"
      ],
      "metadata": {
        "id": "Nj_9BvbQj5A3"
      }
    },
    {
      "cell_type": "code",
      "source": [
        "# Memisahkan atribut prediktor dan atribut label\n",
        "x = data.drop(columns=[\"price_range\"])\n",
        "y = data[\"price_range\"]"
      ],
      "metadata": {
        "id": "0hKTXSJ9jz-f"
      },
      "execution_count": 5,
      "outputs": []
    },
    {
      "cell_type": "code",
      "source": [
        "# Menampilkan hasil dari pemisahan atribut prediktor dan atribut label\n",
        "print(\"Atribut Prediktor (Fitur):\")\n",
        "print(x.head())\n",
        "\n",
        "print(\"\\nAtribut Label:\")\n",
        "print(y.head())"
      ],
      "metadata": {
        "colab": {
          "base_uri": "https://localhost:8080/"
        },
        "id": "77FF20J0kCkC",
        "outputId": "65f9998b-5b84-40f7-92a1-076ab034af67"
      },
      "execution_count": 6,
      "outputs": [
        {
          "output_type": "stream",
          "name": "stdout",
          "text": [
            "Atribut Prediktor (Fitur):\n",
            "   battery_power  blue  clock_speed  dual_sim  fc  four_g  int_memory  m_dep  \\\n",
            "0          842.0     0          2.2         0   1       0         7.0    0.6   \n",
            "1         1021.0     1          0.5         1   0       1        53.0    0.7   \n",
            "2          563.0     1          0.5         1   2       1        41.0    0.9   \n",
            "3          615.0     1          2.5         0   0       0        10.0    0.8   \n",
            "4         1821.0     1          1.2         0  13       1        44.0    0.6   \n",
            "\n",
            "   mobile_wt  n_cores  pc  px_height  px_width     ram  sc_h  sc_w  talk_time  \\\n",
            "0      188.0        2   2         20       756     NaN     9     7         19   \n",
            "1      136.0        3   6        905      1988  2631.0    17     3          7   \n",
            "2      145.0        5   6       1263      1716  2603.0    11     2          9   \n",
            "3      131.0        6   9       1216      1786  2769.0    16     8         11   \n",
            "4      141.0        2  14       1208      1212  1411.0     8     2         15   \n",
            "\n",
            "   three_g  touch_screen  wifi  \n",
            "0        0             0     1  \n",
            "1        1             1     0  \n",
            "2        1             1     0  \n",
            "3        1             0     0  \n",
            "4        1             1     0  \n",
            "\n",
            "Atribut Label:\n",
            "0    1\n",
            "1    2\n",
            "2    2\n",
            "3    2\n",
            "4    1\n",
            "Name: price_range, dtype: int64\n"
          ]
        }
      ]
    },
    {
      "cell_type": "markdown",
      "source": [
        "b. Gunakan SimpleImputer untuk menangani *missing values*, dengan nilai median dari atribut data sebagai strategi pengisian nilai"
      ],
      "metadata": {
        "id": "CEDxC_r8l4VK"
      }
    },
    {
      "cell_type": "code",
      "source": [
        "# Handling Missing Values\n",
        "imputer = SimpleImputer(strategy=\"median\")\n",
        "\n",
        "x_imputer = imputer.fit_transform(x)\n",
        "x_imputer_df = pd.DataFrame(x_imputer, columns=x.columns)"
      ],
      "metadata": {
        "id": "z4BpoQBbl41Y"
      },
      "execution_count": 7,
      "outputs": []
    },
    {
      "cell_type": "code",
      "source": [
        "# Menampilkan atribut prediktor setelah pengisian missing values\n",
        "print(\"Atribut Prediktor setelah Pengisian Missing Values:\")\n",
        "print(x_imputer_df.head())"
      ],
      "metadata": {
        "colab": {
          "base_uri": "https://localhost:8080/"
        },
        "id": "hc_c4drzn4nF",
        "outputId": "a0c29b59-8652-44a5-f701-fca49244132f"
      },
      "execution_count": 9,
      "outputs": [
        {
          "output_type": "stream",
          "name": "stdout",
          "text": [
            "Atribut Prediktor setelah Pengisian Missing Values:\n",
            "   battery_power  blue  clock_speed  dual_sim    fc  four_g  int_memory  \\\n",
            "0          842.0   0.0          2.2       0.0   1.0     0.0         7.0   \n",
            "1         1021.0   1.0          0.5       1.0   0.0     1.0        53.0   \n",
            "2          563.0   1.0          0.5       1.0   2.0     1.0        41.0   \n",
            "3          615.0   1.0          2.5       0.0   0.0     0.0        10.0   \n",
            "4         1821.0   1.0          1.2       0.0  13.0     1.0        44.0   \n",
            "\n",
            "   m_dep  mobile_wt  n_cores    pc  px_height  px_width     ram  sc_h  sc_w  \\\n",
            "0    0.6      188.0      2.0   2.0       20.0     756.0  2146.5   9.0   7.0   \n",
            "1    0.7      136.0      3.0   6.0      905.0    1988.0  2631.0  17.0   3.0   \n",
            "2    0.9      145.0      5.0   6.0     1263.0    1716.0  2603.0  11.0   2.0   \n",
            "3    0.8      131.0      6.0   9.0     1216.0    1786.0  2769.0  16.0   8.0   \n",
            "4    0.6      141.0      2.0  14.0     1208.0    1212.0  1411.0   8.0   2.0   \n",
            "\n",
            "   talk_time  three_g  touch_screen  wifi  \n",
            "0       19.0      0.0           0.0   1.0  \n",
            "1        7.0      1.0           1.0   0.0  \n",
            "2        9.0      1.0           1.0   0.0  \n",
            "3       11.0      1.0           0.0   0.0  \n",
            "4       15.0      1.0           1.0   0.0  \n"
          ]
        }
      ]
    },
    {
      "cell_type": "markdown",
      "source": [
        "c. Terapkan MinMaxScaler atau **StandardScaler** untuk mengubah nilai atribut prediktor, agar nilai dari masing-masing atribut menjadi seragam"
      ],
      "metadata": {
        "id": "dg1bhZjEolbD"
      }
    },
    {
      "cell_type": "code",
      "source": [
        "# Scaling Data menggunakan StandardScaler\n",
        "scaler = StandardScaler()\n",
        "x_scaler = scaler.fit_transform(x_imputer_df)\n",
        "x_scaler_df = pd.DataFrame(x_scaler, columns=x.columns)"
      ],
      "metadata": {
        "id": "HB2GS1mGomJe"
      },
      "execution_count": 11,
      "outputs": []
    },
    {
      "cell_type": "code",
      "source": [
        "# Menampilkan hasil dari atribut prediktor setelah scaling data\n",
        "print(\"Atribut Prediktor setelah Scaling:\")\n",
        "print(x_scaler_df.head())"
      ],
      "metadata": {
        "id": "L8QmQc8jp2aA",
        "outputId": "8c1f85d6-707e-4d95-c6c9-2301e789c678",
        "colab": {
          "base_uri": "https://localhost:8080/"
        }
      },
      "execution_count": 12,
      "outputs": [
        {
          "output_type": "stream",
          "name": "stdout",
          "text": [
            "Atribut Prediktor setelah Scaling:\n",
            "   battery_power      blue  clock_speed  dual_sim        fc    four_g  \\\n",
            "0      -0.902700 -0.990050     0.830779 -1.019184 -0.762495 -1.043966   \n",
            "1      -0.494459  1.010051    -1.253064  0.981177 -0.992890  0.957886   \n",
            "2      -1.539009  1.010051    -1.253064  0.981177 -0.532099  0.957886   \n",
            "3      -1.420414  1.010051     1.198517 -1.019184 -0.992890 -1.043966   \n",
            "4       1.330083  1.010051    -0.395011 -1.019184  2.002254  0.957886   \n",
            "\n",
            "   int_memory     m_dep  mobile_wt   n_cores        pc  px_height  px_width  \\\n",
            "0   -1.381584  0.340740   1.349561 -1.101971 -1.305750  -1.408949 -1.146784   \n",
            "1    1.161752  0.687548  -0.123125 -0.664768 -0.645989   0.585778  1.704465   \n",
            "2    0.498273  1.381165   0.131763  0.209639 -0.645989   1.392684  1.074968   \n",
            "3   -1.215715  1.034357  -0.264729  0.646842 -0.151168   1.286750  1.236971   \n",
            "4    0.664142  0.340740   0.018479 -1.101971  0.673534   1.268718 -0.091452   \n",
            "\n",
            "        ram      sc_h      sc_w  talk_time   three_g  touch_screen      wifi  \n",
            "0  0.019780 -0.784983  0.283103   1.462493 -1.786861     -1.006018  0.986097  \n",
            "1  0.467604  1.114266 -0.635317  -0.734267  0.559641      0.994018 -1.014099  \n",
            "2  0.441724 -0.310171 -0.864922  -0.368140  0.559641      0.994018 -1.014099  \n",
            "3  0.595158  0.876859  0.512708  -0.002014  0.559641     -1.006018 -1.014099  \n",
            "4 -0.660043 -1.022389 -0.864922   0.730240  0.559641      0.994018 -1.014099  \n"
          ]
        }
      ]
    },
    {
      "cell_type": "markdown",
      "source": [
        "d. Tampilkan statistik deskriptif dari atribut data sebelum dan setelah dilakukan pengisian missing values dan standarisasi"
      ],
      "metadata": {
        "id": "w3rv4L98qBYu"
      }
    },
    {
      "cell_type": "code",
      "source": [
        "# Menampilkan Statistik Deskriptif\n",
        "print(\"Statistik deskriptif sebelum pengisian missing values:\")\n",
        "print(x.describe())\n",
        "\n",
        "print(\"\\nStatistik deskriptif setelah pengisian missing values dan standarisasi:\")\n",
        "print(x_scaler_df.describe())"
      ],
      "metadata": {
        "id": "75gUAw9Qqo-O",
        "outputId": "7dfeb3a7-08fd-422d-c24c-47967b5cb000",
        "colab": {
          "base_uri": "https://localhost:8080/"
        }
      },
      "execution_count": 13,
      "outputs": [
        {
          "output_type": "stream",
          "name": "stdout",
          "text": [
            "Statistik deskriptif sebelum pengisian missing values:\n",
            "       battery_power       blue  clock_speed     dual_sim           fc  \\\n",
            "count    1990.000000  2000.0000  2000.000000  2000.000000  2000.000000   \n",
            "mean     1237.867839     0.4950     1.522250     0.509500     4.309500   \n",
            "std       439.676025     0.5001     0.816004     0.500035     4.341444   \n",
            "min       501.000000     0.0000     0.500000     0.000000     0.000000   \n",
            "25%       850.250000     0.0000     0.700000     0.000000     1.000000   \n",
            "50%      1225.000000     0.0000     1.500000     1.000000     3.000000   \n",
            "75%      1615.000000     1.0000     2.200000     1.000000     7.000000   \n",
            "max      1998.000000     1.0000     3.000000     1.000000    19.000000   \n",
            "\n",
            "            four_g   int_memory        m_dep    mobile_wt      n_cores  \\\n",
            "count  2000.000000  1990.000000  2000.000000  1990.000000  2000.000000   \n",
            "mean      0.521500    31.987940     0.501750   140.344221     4.520500   \n",
            "std       0.499662    18.136427     0.288416    35.407114     2.287837   \n",
            "min       0.000000     2.000000     0.100000    80.000000     1.000000   \n",
            "25%       0.000000    16.000000     0.200000   109.000000     3.000000   \n",
            "50%       1.000000    32.000000     0.500000   141.000000     4.000000   \n",
            "75%       1.000000    48.000000     0.800000   170.000000     7.000000   \n",
            "max       1.000000    64.000000     1.000000   200.000000     8.000000   \n",
            "\n",
            "                pc    px_height     px_width          ram         sc_h  \\\n",
            "count  2000.000000  2000.000000  2000.000000  1990.000000  2000.000000   \n",
            "mean      9.916500   645.108000  1251.515500  2124.991960    12.306500   \n",
            "std       6.064315   443.780811   432.199447  1084.885362     4.213245   \n",
            "min       0.000000     0.000000   500.000000   256.000000     5.000000   \n",
            "25%       5.000000   282.750000   874.750000  1208.250000     9.000000   \n",
            "50%      10.000000   564.000000  1247.000000  2146.500000    12.000000   \n",
            "75%      15.000000   947.250000  1633.000000  3065.500000    16.000000   \n",
            "max      20.000000  1960.000000  1998.000000  3998.000000    19.000000   \n",
            "\n",
            "              sc_w    talk_time      three_g  touch_screen         wifi  \n",
            "count  2000.000000  2000.000000  2000.000000   2000.000000  2000.000000  \n",
            "mean      5.767000    11.011000     0.761500      0.503000     0.507000  \n",
            "std       4.356398     5.463955     0.426273      0.500116     0.500076  \n",
            "min       0.000000     2.000000     0.000000      0.000000     0.000000  \n",
            "25%       2.000000     6.000000     1.000000      0.000000     0.000000  \n",
            "50%       5.000000    11.000000     1.000000      1.000000     1.000000  \n",
            "75%       9.000000    16.000000     1.000000      1.000000     1.000000  \n",
            "max      18.000000    20.000000     1.000000      1.000000     1.000000  \n",
            "\n",
            "Statistik deskriptif setelah pengisian missing values dan standarisasi:\n",
            "       battery_power          blue   clock_speed      dual_sim            fc  \\\n",
            "count   2.000000e+03  2.000000e+03  2.000000e+03  2.000000e+03  2.000000e+03   \n",
            "mean    2.842171e-17 -1.243450e-17 -1.545430e-16  8.082424e-17  5.861978e-17   \n",
            "std     1.000250e+00  1.000250e+00  1.000250e+00  1.000250e+00  1.000250e+00   \n",
            "min    -1.680411e+00 -9.900495e-01 -1.253064e+00 -1.019184e+00 -9.928904e-01   \n",
            "25%    -8.804636e-01 -9.900495e-01 -1.007906e+00 -1.019184e+00 -7.624947e-01   \n",
            "50%    -2.920066e-02 -9.900495e-01 -2.727384e-02  9.811771e-01 -3.017032e-01   \n",
            "75%     8.579829e-01  1.010051e+00  8.307794e-01  9.811771e-01  6.198797e-01   \n",
            "max     1.733763e+00  1.010051e+00  1.811412e+00  9.811771e-01  3.384628e+00   \n",
            "\n",
            "             four_g    int_memory         m_dep     mobile_wt       n_cores  \\\n",
            "count  2.000000e+03  2.000000e+03  2.000000e+03  2.000000e+03  2.000000e+03   \n",
            "mean   1.048051e-16  3.197442e-17 -1.030287e-16  8.881784e-17 -7.727152e-17   \n",
            "std    1.000250e+00  1.000250e+00  1.000250e+00  1.000250e+00  1.000250e+00   \n",
            "min   -1.043966e+00 -1.658034e+00 -1.393304e+00 -1.709094e+00 -1.539175e+00   \n",
            "25%   -1.043966e+00 -8.839751e-01 -1.046495e+00 -8.877887e-01 -6.647678e-01   \n",
            "50%    9.578860e-01  6.634789e-04 -6.069151e-03  1.847937e-02 -2.275644e-01   \n",
            "75%    9.578860e-01  8.853020e-01  1.034357e+00  8.397848e-01  1.084046e+00   \n",
            "max    9.578860e-01  1.769941e+00  1.727974e+00  1.689411e+00  1.521249e+00   \n",
            "\n",
            "                 pc     px_height      px_width           ram          sc_h  \\\n",
            "count  2.000000e+03  2.000000e+03  2.000000e+03  2.000000e+03  2.000000e+03   \n",
            "mean   1.403322e-16  1.181277e-16  6.084022e-17  1.740830e-16  4.884981e-17   \n",
            "std    1.000250e+00  1.000250e+00  1.000250e+00  1.000250e+00  1.000250e+00   \n",
            "min   -1.635631e+00 -1.454027e+00 -1.739251e+00 -1.727610e+00 -1.734608e+00   \n",
            "25%   -8.109291e-01 -8.167289e-01 -8.719579e-01 -8.451340e-01 -7.849833e-01   \n",
            "50%    1.377252e-02 -1.828116e-01 -1.045034e-02  1.978050e-02 -7.276497e-02   \n",
            "75%    8.384742e-01  6.810064e-01  8.828792e-01  8.641293e-01  8.768595e-01   \n",
            "max    1.663176e+00  2.963672e+00  1.727608e+00  1.731123e+00  1.589078e+00   \n",
            "\n",
            "               sc_w     talk_time       three_g  touch_screen          wifi  \n",
            "count  2.000000e+03  2.000000e+03  2.000000e+03  2.000000e+03  2.000000e+03  \n",
            "mean  -5.506706e-17  1.421085e-16  1.421085e-17 -5.417888e-17  1.421085e-17  \n",
            "std    1.000250e+00  1.000250e+00  1.000250e+00  1.000250e+00  1.000250e+00  \n",
            "min   -1.324131e+00 -1.649584e+00 -1.786861e+00 -1.006018e+00 -1.014099e+00  \n",
            "25%   -8.649215e-01 -9.173306e-01  5.596406e-01 -1.006018e+00 -1.014099e+00  \n",
            "50%   -1.761069e-01 -2.013697e-03  5.596406e-01  9.940179e-01  9.860966e-01  \n",
            "75%    7.423125e-01  9.133032e-01  5.596406e-01  9.940179e-01  9.860966e-01  \n",
            "max    2.808756e+00  1.645557e+00  5.596406e-01  9.940179e-01  9.860966e-01  \n"
          ]
        }
      ]
    },
    {
      "cell_type": "markdown",
      "source": [
        "### **No 3**"
      ],
      "metadata": {
        "id": "RT0mWYoMq05M"
      }
    },
    {
      "cell_type": "markdown",
      "source": [
        "a. gunakan salah satu algoritma untuk membangun model klasifikasi"
      ],
      "metadata": {
        "id": "IdP1UFLNzn5M"
      }
    },
    {
      "cell_type": "markdown",
      "source": [
        "Menggunakan Algoritma ***Decision Tree***\n",
        "\n",
        "---\n",
        "\n"
      ],
      "metadata": {
        "id": "xEH7ZH1Mq-Nf"
      }
    },
    {
      "cell_type": "markdown",
      "source": [
        "b. gunakan metode holdout untuk membagi keseluruhan dataset, data training 80% data testing 20%"
      ],
      "metadata": {
        "id": "s7FCrdmvz7cd"
      }
    },
    {
      "cell_type": "code",
      "source": [
        "# Memisahkan atribut prediktor (X_scaled) dari label data (y)\n",
        "X_train, X_test, y_train, y_test = train_test_split(x_scaler, y, test_size=0.2, random_state=42)"
      ],
      "metadata": {
        "id": "7C0P4e6sreyz"
      },
      "execution_count": 16,
      "outputs": []
    },
    {
      "cell_type": "code",
      "source": [
        "# Inisialisasi model Decision Tree\n",
        "model = DecisionTreeClassifier(random_state=42)\n",
        "\n",
        "# Latih model pada data pelatihan\n",
        "model.fit(X_train, y_train)"
      ],
      "metadata": {
        "id": "bkHbccdsr6N7",
        "outputId": "120cd826-cce8-4134-d29a-867e7f1977d9",
        "colab": {
          "base_uri": "https://localhost:8080/",
          "height": 75
        }
      },
      "execution_count": 17,
      "outputs": [
        {
          "output_type": "execute_result",
          "data": {
            "text/plain": [
              "DecisionTreeClassifier(random_state=42)"
            ],
            "text/html": [
              "<style>#sk-container-id-1 {color: black;background-color: white;}#sk-container-id-1 pre{padding: 0;}#sk-container-id-1 div.sk-toggleable {background-color: white;}#sk-container-id-1 label.sk-toggleable__label {cursor: pointer;display: block;width: 100%;margin-bottom: 0;padding: 0.3em;box-sizing: border-box;text-align: center;}#sk-container-id-1 label.sk-toggleable__label-arrow:before {content: \"▸\";float: left;margin-right: 0.25em;color: #696969;}#sk-container-id-1 label.sk-toggleable__label-arrow:hover:before {color: black;}#sk-container-id-1 div.sk-estimator:hover label.sk-toggleable__label-arrow:before {color: black;}#sk-container-id-1 div.sk-toggleable__content {max-height: 0;max-width: 0;overflow: hidden;text-align: left;background-color: #f0f8ff;}#sk-container-id-1 div.sk-toggleable__content pre {margin: 0.2em;color: black;border-radius: 0.25em;background-color: #f0f8ff;}#sk-container-id-1 input.sk-toggleable__control:checked~div.sk-toggleable__content {max-height: 200px;max-width: 100%;overflow: auto;}#sk-container-id-1 input.sk-toggleable__control:checked~label.sk-toggleable__label-arrow:before {content: \"▾\";}#sk-container-id-1 div.sk-estimator input.sk-toggleable__control:checked~label.sk-toggleable__label {background-color: #d4ebff;}#sk-container-id-1 div.sk-label input.sk-toggleable__control:checked~label.sk-toggleable__label {background-color: #d4ebff;}#sk-container-id-1 input.sk-hidden--visually {border: 0;clip: rect(1px 1px 1px 1px);clip: rect(1px, 1px, 1px, 1px);height: 1px;margin: -1px;overflow: hidden;padding: 0;position: absolute;width: 1px;}#sk-container-id-1 div.sk-estimator {font-family: monospace;background-color: #f0f8ff;border: 1px dotted black;border-radius: 0.25em;box-sizing: border-box;margin-bottom: 0.5em;}#sk-container-id-1 div.sk-estimator:hover {background-color: #d4ebff;}#sk-container-id-1 div.sk-parallel-item::after {content: \"\";width: 100%;border-bottom: 1px solid gray;flex-grow: 1;}#sk-container-id-1 div.sk-label:hover label.sk-toggleable__label {background-color: #d4ebff;}#sk-container-id-1 div.sk-serial::before {content: \"\";position: absolute;border-left: 1px solid gray;box-sizing: border-box;top: 0;bottom: 0;left: 50%;z-index: 0;}#sk-container-id-1 div.sk-serial {display: flex;flex-direction: column;align-items: center;background-color: white;padding-right: 0.2em;padding-left: 0.2em;position: relative;}#sk-container-id-1 div.sk-item {position: relative;z-index: 1;}#sk-container-id-1 div.sk-parallel {display: flex;align-items: stretch;justify-content: center;background-color: white;position: relative;}#sk-container-id-1 div.sk-item::before, #sk-container-id-1 div.sk-parallel-item::before {content: \"\";position: absolute;border-left: 1px solid gray;box-sizing: border-box;top: 0;bottom: 0;left: 50%;z-index: -1;}#sk-container-id-1 div.sk-parallel-item {display: flex;flex-direction: column;z-index: 1;position: relative;background-color: white;}#sk-container-id-1 div.sk-parallel-item:first-child::after {align-self: flex-end;width: 50%;}#sk-container-id-1 div.sk-parallel-item:last-child::after {align-self: flex-start;width: 50%;}#sk-container-id-1 div.sk-parallel-item:only-child::after {width: 0;}#sk-container-id-1 div.sk-dashed-wrapped {border: 1px dashed gray;margin: 0 0.4em 0.5em 0.4em;box-sizing: border-box;padding-bottom: 0.4em;background-color: white;}#sk-container-id-1 div.sk-label label {font-family: monospace;font-weight: bold;display: inline-block;line-height: 1.2em;}#sk-container-id-1 div.sk-label-container {text-align: center;}#sk-container-id-1 div.sk-container {/* jupyter's `normalize.less` sets `[hidden] { display: none; }` but bootstrap.min.css set `[hidden] { display: none !important; }` so we also need the `!important` here to be able to override the default hidden behavior on the sphinx rendered scikit-learn.org. See: https://github.com/scikit-learn/scikit-learn/issues/21755 */display: inline-block !important;position: relative;}#sk-container-id-1 div.sk-text-repr-fallback {display: none;}</style><div id=\"sk-container-id-1\" class=\"sk-top-container\"><div class=\"sk-text-repr-fallback\"><pre>DecisionTreeClassifier(random_state=42)</pre><b>In a Jupyter environment, please rerun this cell to show the HTML representation or trust the notebook. <br />On GitHub, the HTML representation is unable to render, please try loading this page with nbviewer.org.</b></div><div class=\"sk-container\" hidden><div class=\"sk-item\"><div class=\"sk-estimator sk-toggleable\"><input class=\"sk-toggleable__control sk-hidden--visually\" id=\"sk-estimator-id-1\" type=\"checkbox\" checked><label for=\"sk-estimator-id-1\" class=\"sk-toggleable__label sk-toggleable__label-arrow\">DecisionTreeClassifier</label><div class=\"sk-toggleable__content\"><pre>DecisionTreeClassifier(random_state=42)</pre></div></div></div></div></div>"
            ]
          },
          "metadata": {},
          "execution_count": 17
        }
      ]
    },
    {
      "cell_type": "code",
      "source": [
        "#Melakukan prediksi pada data pengujian\n",
        "y_pred = model.predict(X_test)"
      ],
      "metadata": {
        "id": "n2_EmQ7nr-LF"
      },
      "execution_count": 18,
      "outputs": []
    },
    {
      "cell_type": "markdown",
      "source": [
        "c. tampilkan confussion matrix dan akurasi dari model klasifikasi"
      ],
      "metadata": {
        "id": "Zmn8e7OV0J5a"
      }
    },
    {
      "cell_type": "code",
      "source": [
        "  # Menghitung confusion matrix\n",
        "cm = confusion_matrix(y_test, y_pred)\n",
        "\n",
        "# Menghitung akurasi\n",
        "accuracy = accuracy_score(y_test, y_pred)\n",
        "\n",
        "# Menampilkan confusion matrix\n",
        "print(\"Confusion Matrix:\")\n",
        "print(cm)\n",
        "\n",
        "# Menampilkan akurasi\n",
        "print(\"Akurasi: {:.2f}%\".format(accuracy * 100))"
      ],
      "metadata": {
        "id": "8EODgBposMLJ",
        "outputId": "b5d20d5a-52fb-4a04-cdb8-0bb842787132",
        "colab": {
          "base_uri": "https://localhost:8080/"
        }
      },
      "execution_count": 19,
      "outputs": [
        {
          "output_type": "stream",
          "name": "stdout",
          "text": [
            "Confusion Matrix:\n",
            "[[90 15  0  0]\n",
            " [ 5 74 12  0]\n",
            " [ 0 16 64 12]\n",
            " [ 0  0 13 99]]\n",
            "Akurasi: 81.75%\n"
          ]
        }
      ]
    },
    {
      "cell_type": "markdown",
      "source": [
        "### Soal Nomor 4"
      ],
      "metadata": {
        "id": "j1ERvo56saYv"
      }
    },
    {
      "cell_type": "markdown",
      "source": [
        "Menggunakan Algoritma ***K-Means***\n",
        "\n",
        "---\n",
        "\n"
      ],
      "metadata": {
        "id": "XSF-s9wasi9q"
      }
    },
    {
      "cell_type": "code",
      "source": [
        "# Inisialisasi model K-Means\n",
        "n_clusters = 5\n",
        "kmeans = KMeans(n_clusters=n_clusters, random_state=42, n_init=10)\n",
        "\n",
        "# Latih model K-Means\n",
        "kmeans.fit(x_scaler)"
      ],
      "metadata": {
        "id": "S_3mtICysvhB",
        "outputId": "eb7a8d34-fa02-45be-ecba-45d5a451b52b",
        "colab": {
          "base_uri": "https://localhost:8080/",
          "height": 75
        }
      },
      "execution_count": 21,
      "outputs": [
        {
          "output_type": "execute_result",
          "data": {
            "text/plain": [
              "KMeans(n_clusters=5, n_init=10, random_state=42)"
            ],
            "text/html": [
              "<style>#sk-container-id-2 {color: black;background-color: white;}#sk-container-id-2 pre{padding: 0;}#sk-container-id-2 div.sk-toggleable {background-color: white;}#sk-container-id-2 label.sk-toggleable__label {cursor: pointer;display: block;width: 100%;margin-bottom: 0;padding: 0.3em;box-sizing: border-box;text-align: center;}#sk-container-id-2 label.sk-toggleable__label-arrow:before {content: \"▸\";float: left;margin-right: 0.25em;color: #696969;}#sk-container-id-2 label.sk-toggleable__label-arrow:hover:before {color: black;}#sk-container-id-2 div.sk-estimator:hover label.sk-toggleable__label-arrow:before {color: black;}#sk-container-id-2 div.sk-toggleable__content {max-height: 0;max-width: 0;overflow: hidden;text-align: left;background-color: #f0f8ff;}#sk-container-id-2 div.sk-toggleable__content pre {margin: 0.2em;color: black;border-radius: 0.25em;background-color: #f0f8ff;}#sk-container-id-2 input.sk-toggleable__control:checked~div.sk-toggleable__content {max-height: 200px;max-width: 100%;overflow: auto;}#sk-container-id-2 input.sk-toggleable__control:checked~label.sk-toggleable__label-arrow:before {content: \"▾\";}#sk-container-id-2 div.sk-estimator input.sk-toggleable__control:checked~label.sk-toggleable__label {background-color: #d4ebff;}#sk-container-id-2 div.sk-label input.sk-toggleable__control:checked~label.sk-toggleable__label {background-color: #d4ebff;}#sk-container-id-2 input.sk-hidden--visually {border: 0;clip: rect(1px 1px 1px 1px);clip: rect(1px, 1px, 1px, 1px);height: 1px;margin: -1px;overflow: hidden;padding: 0;position: absolute;width: 1px;}#sk-container-id-2 div.sk-estimator {font-family: monospace;background-color: #f0f8ff;border: 1px dotted black;border-radius: 0.25em;box-sizing: border-box;margin-bottom: 0.5em;}#sk-container-id-2 div.sk-estimator:hover {background-color: #d4ebff;}#sk-container-id-2 div.sk-parallel-item::after {content: \"\";width: 100%;border-bottom: 1px solid gray;flex-grow: 1;}#sk-container-id-2 div.sk-label:hover label.sk-toggleable__label {background-color: #d4ebff;}#sk-container-id-2 div.sk-serial::before {content: \"\";position: absolute;border-left: 1px solid gray;box-sizing: border-box;top: 0;bottom: 0;left: 50%;z-index: 0;}#sk-container-id-2 div.sk-serial {display: flex;flex-direction: column;align-items: center;background-color: white;padding-right: 0.2em;padding-left: 0.2em;position: relative;}#sk-container-id-2 div.sk-item {position: relative;z-index: 1;}#sk-container-id-2 div.sk-parallel {display: flex;align-items: stretch;justify-content: center;background-color: white;position: relative;}#sk-container-id-2 div.sk-item::before, #sk-container-id-2 div.sk-parallel-item::before {content: \"\";position: absolute;border-left: 1px solid gray;box-sizing: border-box;top: 0;bottom: 0;left: 50%;z-index: -1;}#sk-container-id-2 div.sk-parallel-item {display: flex;flex-direction: column;z-index: 1;position: relative;background-color: white;}#sk-container-id-2 div.sk-parallel-item:first-child::after {align-self: flex-end;width: 50%;}#sk-container-id-2 div.sk-parallel-item:last-child::after {align-self: flex-start;width: 50%;}#sk-container-id-2 div.sk-parallel-item:only-child::after {width: 0;}#sk-container-id-2 div.sk-dashed-wrapped {border: 1px dashed gray;margin: 0 0.4em 0.5em 0.4em;box-sizing: border-box;padding-bottom: 0.4em;background-color: white;}#sk-container-id-2 div.sk-label label {font-family: monospace;font-weight: bold;display: inline-block;line-height: 1.2em;}#sk-container-id-2 div.sk-label-container {text-align: center;}#sk-container-id-2 div.sk-container {/* jupyter's `normalize.less` sets `[hidden] { display: none; }` but bootstrap.min.css set `[hidden] { display: none !important; }` so we also need the `!important` here to be able to override the default hidden behavior on the sphinx rendered scikit-learn.org. See: https://github.com/scikit-learn/scikit-learn/issues/21755 */display: inline-block !important;position: relative;}#sk-container-id-2 div.sk-text-repr-fallback {display: none;}</style><div id=\"sk-container-id-2\" class=\"sk-top-container\"><div class=\"sk-text-repr-fallback\"><pre>KMeans(n_clusters=5, n_init=10, random_state=42)</pre><b>In a Jupyter environment, please rerun this cell to show the HTML representation or trust the notebook. <br />On GitHub, the HTML representation is unable to render, please try loading this page with nbviewer.org.</b></div><div class=\"sk-container\" hidden><div class=\"sk-item\"><div class=\"sk-estimator sk-toggleable\"><input class=\"sk-toggleable__control sk-hidden--visually\" id=\"sk-estimator-id-2\" type=\"checkbox\" checked><label for=\"sk-estimator-id-2\" class=\"sk-toggleable__label sk-toggleable__label-arrow\">KMeans</label><div class=\"sk-toggleable__content\"><pre>KMeans(n_clusters=5, n_init=10, random_state=42)</pre></div></div></div></div></div>"
            ]
          },
          "metadata": {},
          "execution_count": 21
        }
      ]
    },
    {
      "cell_type": "markdown",
      "source": [
        "b. Tampilkan silhouette score dari model clustering"
      ],
      "metadata": {
        "id": "X9w_EEK9vDeI"
      }
    },
    {
      "cell_type": "code",
      "source": [
        "# Menampilkan Silhouette Coefficients\n",
        "kmeans_kwargs = {\"init\": \"random\", \"n_init\": 10}\n",
        "silhouette_coefficients = []\n",
        "\n",
        "for k in range(2, 21):\n",
        "    kmeans = KMeans(n_clusters=k, **kmeans_kwargs)\n",
        "    kmeans.fit(x_scaler_df)\n",
        "    score = silhouette_score(x_scaler_df, kmeans.labels_)\n",
        "    silhouette_coefficients.append(score)\n",
        "    print(f\"Silhouette Score for {k} clusters: {score}\")\n",
        "\n",
        "print(\"Silhouette Score:\", score)"
      ],
      "metadata": {
        "id": "VNf_N6S6tbF-",
        "outputId": "37c9cee9-f7ef-4010-a244-ef36cb552a52",
        "colab": {
          "base_uri": "https://localhost:8080/"
        }
      },
      "execution_count": 23,
      "outputs": [
        {
          "output_type": "stream",
          "name": "stdout",
          "text": [
            "Silhouette Score for 2 clusters: 0.067724062611456\n",
            "Silhouette Score for 3 clusters: 0.06558756179253894\n",
            "Silhouette Score for 4 clusters: 0.05828182955390204\n",
            "Silhouette Score for 5 clusters: 0.054235112525648006\n",
            "Silhouette Score for 6 clusters: 0.04736299405990943\n",
            "Silhouette Score for 7 clusters: 0.05014937336872782\n",
            "Silhouette Score for 8 clusters: 0.04679215161783967\n",
            "Silhouette Score for 9 clusters: 0.04783951678906953\n",
            "Silhouette Score for 10 clusters: 0.04655270918688458\n",
            "Silhouette Score for 11 clusters: 0.045066642614394456\n",
            "Silhouette Score for 12 clusters: 0.04446824097830299\n",
            "Silhouette Score for 13 clusters: 0.044868978245562345\n",
            "Silhouette Score for 14 clusters: 0.045721025256733314\n",
            "Silhouette Score for 15 clusters: 0.04447743271935947\n",
            "Silhouette Score for 16 clusters: 0.04408613245221318\n",
            "Silhouette Score for 17 clusters: 0.044692538650023185\n",
            "Silhouette Score for 18 clusters: 0.04503718083302409\n",
            "Silhouette Score for 19 clusters: 0.04641407848257801\n",
            "Silhouette Score for 20 clusters: 0.046718554351001675\n",
            "Silhouette Score: 0.046718554351001675\n"
          ]
        }
      ]
    }
  ]
}